{
 "cells": [
  {
   "cell_type": "code",
   "execution_count": 1,
   "metadata": {},
   "outputs": [],
   "source": [
    "import matplotlib.pyplot as plt\n",
    "import numpy as np\n",
    "\n",
    "from conservation_funcs import Parse_conservation"
   ]
  },
  {
   "cell_type": "code",
   "execution_count": null,
   "metadata": {},
   "outputs": [],
   "source": [
    "\"\"\"\n",
    "Parse data from `conservation.out`.\n",
    "\"\"\"\n",
    "rk3 = Parse_conservation('rk3')\n",
    "rk4 = Parse_conservation('rk4')"
   ]
  },
  {
   "cell_type": "code",
   "execution_count": null,
   "metadata": {},
   "outputs": [],
   "source": [
    "\"\"\"\n",
    "Plot convergence RK3 and RK4 schemes.\n",
    "\"\"\"\n",
    "\n",
    "dts = np.array([10., 5., 2.5, 1.25])\n",
    "\n",
    "off3 = 0.004\n",
    "off4 = 0.00006\n",
    "slope3 = off3*(dts[:] / dts[0])**3.\n",
    "slope4 = off4*(dts[:] / dts[0])**4.\n",
    "\n",
    "plt.figure(layout='tight')\n",
    "plt.loglog(dts, abs(rk3.tke_loss), 'bo-', label='RK3')\n",
    "plt.loglog(dts, abs(rk4.tke_loss), 'go-', label='RK4')\n",
    "plt.loglog(dts, slope3, 'k--' , label=r'$\\mathcal{O}$(3)')\n",
    "plt.loglog(dts, slope4, 'k:', label=r'$\\mathcal{O}$(4)')\n",
    "plt.xlabel(r'$\\Delta$t')\n",
    "plt.ylabel(r'|$\\Delta$TKE|')\n",
    "plt.legend()\n",
    "plt.savefig('conservation_convergence.png')"
   ]
  },
  {
   "cell_type": "code",
   "execution_count": null,
   "metadata": {},
   "outputs": [],
   "source": [
    "\"\"\"\n",
    "Plot momentum + tke + mass loss as function of time.\n",
    "\"\"\"\n",
    "\n",
    "def plot_all(var):\n",
    "    for i in range(rk3.N):\n",
    "        plt.plot(rk3.time[i][1:], getattr(rk3, var)[i][1:], label=rf'RK3, $\\Delta t$= {dts[i]}')\n",
    "    ax.set_prop_cycle(None)\n",
    "    for i in range(rk4.N):\n",
    "        plt.plot(rk4.time[i][1:], getattr(rk4, var)[i][1:], '--', label=rf'RK4, $\\Delta t$= {dts[i]}')\n",
    "    plt.xlabel('Time (s)')\n",
    "\n",
    "plt.figure(figsize=(10,4), layout='tight')\n",
    "\n",
    "ax=plt.subplot(131)\n",
    "plt.title('Momentum', loc='left')\n",
    "plot_all('mom')\n",
    "plt.legend(ncol=2)\n",
    "\n",
    "ax=plt.subplot(132)\n",
    "plt.title('TKE', loc='left')\n",
    "plot_all('tke')\n",
    "\n",
    "ax=plt.subplot(133)\n",
    "plt.title('Mass', loc='left')\n",
    "plot_all('mass')\n",
    "\n",
    "plt.savefig('conservation_timeseries.png')"
   ]
  }
 ],
 "metadata": {
  "kernelspec": {
   "display_name": ".venv",
   "language": "python",
   "name": "python3"
  },
  "language_info": {
   "codemirror_mode": {
    "name": "ipython",
    "version": 3
   },
   "file_extension": ".py",
   "mimetype": "text/x-python",
   "name": "python",
   "nbconvert_exporter": "python",
   "pygments_lexer": "ipython3",
   "version": "3.9.5"
  }
 },
 "nbformat": 4,
 "nbformat_minor": 2
}
