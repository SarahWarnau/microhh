{
 "cells": [
  {
   "cell_type": "markdown",
   "metadata": {},
   "source": [
    "### Taylor Green convergence test\n",
    "\n",
    "Convergence as function of the spatial resolution, using the Taylor Green vortex.\n",
    "\n",
    "Taylor, G. I., & Green, A. E. (1937). Mechanism of the production of small eddies from large ones. Proceedings of the Royal Society of London. Series A-Mathematical and Physical Sciences, 158(895), 499-521."
   ]
  },
  {
   "cell_type": "code",
   "execution_count": 1,
   "metadata": {},
   "outputs": [],
   "source": [
    "import matplotlib.pyplot as plt\n",
    "import numpy as np\n",
    "\n",
    "import microhh_tools as mht\n",
    "from taylorgreen_funcs import Parse_TaylorGreen"
   ]
  },
  {
   "cell_type": "code",
   "execution_count": 2,
   "metadata": {},
   "outputs": [],
   "source": [
    "\"\"\"\n",
    "Read/parse cases.\n",
    "\"\"\"\n",
    "ns = np.array([16, 32, 64, 128, 256])\n",
    "dxs = 1. / ns\n",
    "\n",
    "time = 1\n",
    "visc = (8. * np.pi**2. * 100.)**(-1.)\n",
    "\n",
    "def parse(name):\n",
    "    cases = []\n",
    "    err_u = []\n",
    "    err_w = []\n",
    "    err_p = []\n",
    "    for n in ns:\n",
    "        c = Parse_TaylorGreen(time, visc, f'local_itot{n:03d}_{name}')\n",
    "        err_u.append(c.u_err)\n",
    "        err_w.append(c.w_err)\n",
    "        err_p.append(c.p_err)\n",
    "        cases.append(c)\n",
    "\n",
    "    return cases, err_u, err_w, err_p\n",
    "\n",
    "# 2nd order.\n",
    "advec2,  err_u_2,  err_w_2,  err_p_2  = parse('swadvec2')\n",
    "\n",
    "## 4th order with `advec4m`.\n",
    "advec4m, err_u_4m, err_w_4m, err_p_4m = parse('swadvec4m')\n",
    "\n",
    "## 4th order with `advec4`.\n",
    "advec4,  err_u_4,  err_w_4,  err_p_4  = parse('swadvec4')"
   ]
  },
  {
   "cell_type": "code",
   "execution_count": null,
   "metadata": {},
   "outputs": [],
   "source": [
    "\"\"\"\n",
    "Plot convergence schemes.\n",
    "\"\"\"\n",
    "plt.close('all')\n",
    "\n",
    "\"\"\"\n",
    "Plot convergence schemes.\n",
    "\"\"\"\n",
    "slope2 = 0.01 * (dxs[:] / dxs[0])**2.\n",
    "slope41 = 0.002 * (dxs[:] / dxs[0])**4.\n",
    "slope42 = 0.000001 * (dxs[:] / dxs[0])**4.\n",
    "\n",
    "plt.figure(layout='tight')\n",
    "\n",
    "plt.loglog(dxs, err_u_2, 'o-', color='C0', label='u (2)')\n",
    "plt.loglog(dxs, err_w_2, 'v-', color='C0', label='w (2')\n",
    "plt.loglog(dxs, err_p_2, '^-', color='C0', label='p (2')\n",
    "\n",
    "plt.loglog(dxs, err_u_4m, 'o--', color='C1', label='u (4m)')\n",
    "plt.loglog(dxs, err_w_4m, 'v--', color='C1', label='w (4m)')\n",
    "plt.loglog(dxs, err_p_4m, '^--', color='C1', label='p (4m)')\n",
    "\n",
    "plt.loglog(dxs, err_u_4, 'o--', color='C2', label='u (4)')\n",
    "plt.loglog(dxs, err_w_4, 'v--', color='C2', label='w (4)')\n",
    "plt.loglog(dxs, err_p_4, '^--', color='C2', label='p (4)')\n",
    "\n",
    "plt.loglog(dxs, slope2, 'k--', label=r'$\\mathcal{O}(2)$')\n",
    "plt.loglog(dxs, slope41, 'k-.',  label=r'$\\mathcal{O}(4)$')\n",
    "plt.loglog(dxs, slope42, 'k-.')\n",
    "\n",
    "plt.xlabel(r'$\\Delta$x')\n",
    "plt.ylabel('Error')\n",
    "plt.legend(ncol=4)\n",
    "\n",
    "plt.savefig('taylorgreen_convergence.png')"
   ]
  },
  {
   "cell_type": "code",
   "execution_count": null,
   "metadata": {},
   "outputs": [],
   "source": [
    "\"\"\"\n",
    "Plot cross-sections with errors of highest resolution case.\n",
    "\"\"\"\n",
    "def plot_cross_error(case, var, order, sp):\n",
    "    \"\"\"\n",
    "    Plot cross-section of 2nd and 4th order error for variable `var`.\n",
    "    \"\"\"\n",
    "\n",
    "    plt.subplot(sp, aspect='equal')\n",
    "    plt.title(f'Error {var} {order}')\n",
    "    plt.pcolormesh(case.x, case.z, getattr(case, var)[:, 0, :] - getattr(case, f'{var}_ref')[:, 0, :], rasterized=True)\n",
    "    plt.xlim(min(case.xh), max(case.xh))\n",
    "    plt.ylim(min(case.z), max(case.z))\n",
    "    plt.xlabel('x')\n",
    "    plt.ylabel('z')\n",
    "    plt.colorbar(shrink=0.6)\n",
    "\n",
    "\n",
    "plt.figure(figsize=(9,7), layout='tight')\n",
    "\n",
    "plot_cross_error(advec2[-1], 'u', '2nd', 321)\n",
    "plot_cross_error(advec4[-1], 'u', '4th', 322)\n",
    "\n",
    "plot_cross_error(advec2[-1], 'w', '2nd', 323)\n",
    "plot_cross_error(advec4[-1], 'w', '4th', 324)\n",
    "\n",
    "plot_cross_error(advec2[-1], 'p', '2nd', 325)\n",
    "plot_cross_error(advec4[-1], 'p', '4th', 326)\n",
    "\n",
    "plt.savefig('taylorgreen_errors.png')"
   ]
  }
 ],
 "metadata": {
  "kernelspec": {
   "display_name": ".venv",
   "language": "python",
   "name": "python3"
  },
  "language_info": {
   "codemirror_mode": {
    "name": "ipython",
    "version": 3
   },
   "file_extension": ".py",
   "mimetype": "text/x-python",
   "name": "python",
   "nbconvert_exporter": "python",
   "pygments_lexer": "ipython3",
   "version": "3.9.5"
  }
 },
 "nbformat": 4,
 "nbformat_minor": 2
}
